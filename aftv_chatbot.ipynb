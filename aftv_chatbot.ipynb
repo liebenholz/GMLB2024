{
  "nbformat": 4,
  "nbformat_minor": 0,
  "metadata": {
    "colab": {
      "provenance": []
    },
    "kernelspec": {
      "name": "python3",
      "display_name": "Python 3"
    },
    "language_info": {
      "name": "python"
    },
    "widgets": {
      "application/vnd.jupyter.widget-state+json": {
        "54a36274889a44ee9059723a58c35bf1": {
          "model_module": "@jupyter-widgets/controls",
          "model_name": "HBoxModel",
          "model_module_version": "1.5.0",
          "state": {
            "_dom_classes": [],
            "_model_module": "@jupyter-widgets/controls",
            "_model_module_version": "1.5.0",
            "_model_name": "HBoxModel",
            "_view_count": null,
            "_view_module": "@jupyter-widgets/controls",
            "_view_module_version": "1.5.0",
            "_view_name": "HBoxView",
            "box_style": "",
            "children": [
              "IPY_MODEL_f3fb01cef4ab4da48095b6a9ececbd6f",
              "IPY_MODEL_89e45fd6d95348a1906f3c8e66179255",
              "IPY_MODEL_47577dcd2da941d0abeb6dc6d30d19bb"
            ],
            "layout": "IPY_MODEL_04dec67a888d4b0ea9a4178516190a1a"
          }
        },
        "f3fb01cef4ab4da48095b6a9ececbd6f": {
          "model_module": "@jupyter-widgets/controls",
          "model_name": "HTMLModel",
          "model_module_version": "1.5.0",
          "state": {
            "_dom_classes": [],
            "_model_module": "@jupyter-widgets/controls",
            "_model_module_version": "1.5.0",
            "_model_name": "HTMLModel",
            "_view_count": null,
            "_view_module": "@jupyter-widgets/controls",
            "_view_module_version": "1.5.0",
            "_view_name": "HTMLView",
            "description": "",
            "description_tooltip": null,
            "layout": "IPY_MODEL_c6b344495d5d417d85ecb680e48ae019",
            "placeholder": "​",
            "style": "IPY_MODEL_bc10e170b5bf4ff5a035cd5fcbba69f8",
            "value": "Loading checkpoint shards: 100%"
          }
        },
        "89e45fd6d95348a1906f3c8e66179255": {
          "model_module": "@jupyter-widgets/controls",
          "model_name": "FloatProgressModel",
          "model_module_version": "1.5.0",
          "state": {
            "_dom_classes": [],
            "_model_module": "@jupyter-widgets/controls",
            "_model_module_version": "1.5.0",
            "_model_name": "FloatProgressModel",
            "_view_count": null,
            "_view_module": "@jupyter-widgets/controls",
            "_view_module_version": "1.5.0",
            "_view_name": "ProgressView",
            "bar_style": "success",
            "description": "",
            "description_tooltip": null,
            "layout": "IPY_MODEL_aca2cbd3cdc74d27b094dd9531c7029a",
            "max": 2,
            "min": 0,
            "orientation": "horizontal",
            "style": "IPY_MODEL_81c4a1bbf30a46fc80f83c2cd20f904c",
            "value": 2
          }
        },
        "47577dcd2da941d0abeb6dc6d30d19bb": {
          "model_module": "@jupyter-widgets/controls",
          "model_name": "HTMLModel",
          "model_module_version": "1.5.0",
          "state": {
            "_dom_classes": [],
            "_model_module": "@jupyter-widgets/controls",
            "_model_module_version": "1.5.0",
            "_model_name": "HTMLModel",
            "_view_count": null,
            "_view_module": "@jupyter-widgets/controls",
            "_view_module_version": "1.5.0",
            "_view_name": "HTMLView",
            "description": "",
            "description_tooltip": null,
            "layout": "IPY_MODEL_5774a25a7c8a4515938bb9249b12b819",
            "placeholder": "​",
            "style": "IPY_MODEL_725e6335be344e02b9ba009f69ed547b",
            "value": " 2/2 [00:02&lt;00:00,  1.09s/it]"
          }
        },
        "04dec67a888d4b0ea9a4178516190a1a": {
          "model_module": "@jupyter-widgets/base",
          "model_name": "LayoutModel",
          "model_module_version": "1.2.0",
          "state": {
            "_model_module": "@jupyter-widgets/base",
            "_model_module_version": "1.2.0",
            "_model_name": "LayoutModel",
            "_view_count": null,
            "_view_module": "@jupyter-widgets/base",
            "_view_module_version": "1.2.0",
            "_view_name": "LayoutView",
            "align_content": null,
            "align_items": null,
            "align_self": null,
            "border": null,
            "bottom": null,
            "display": null,
            "flex": null,
            "flex_flow": null,
            "grid_area": null,
            "grid_auto_columns": null,
            "grid_auto_flow": null,
            "grid_auto_rows": null,
            "grid_column": null,
            "grid_gap": null,
            "grid_row": null,
            "grid_template_areas": null,
            "grid_template_columns": null,
            "grid_template_rows": null,
            "height": null,
            "justify_content": null,
            "justify_items": null,
            "left": null,
            "margin": null,
            "max_height": null,
            "max_width": null,
            "min_height": null,
            "min_width": null,
            "object_fit": null,
            "object_position": null,
            "order": null,
            "overflow": null,
            "overflow_x": null,
            "overflow_y": null,
            "padding": null,
            "right": null,
            "top": null,
            "visibility": null,
            "width": null
          }
        },
        "c6b344495d5d417d85ecb680e48ae019": {
          "model_module": "@jupyter-widgets/base",
          "model_name": "LayoutModel",
          "model_module_version": "1.2.0",
          "state": {
            "_model_module": "@jupyter-widgets/base",
            "_model_module_version": "1.2.0",
            "_model_name": "LayoutModel",
            "_view_count": null,
            "_view_module": "@jupyter-widgets/base",
            "_view_module_version": "1.2.0",
            "_view_name": "LayoutView",
            "align_content": null,
            "align_items": null,
            "align_self": null,
            "border": null,
            "bottom": null,
            "display": null,
            "flex": null,
            "flex_flow": null,
            "grid_area": null,
            "grid_auto_columns": null,
            "grid_auto_flow": null,
            "grid_auto_rows": null,
            "grid_column": null,
            "grid_gap": null,
            "grid_row": null,
            "grid_template_areas": null,
            "grid_template_columns": null,
            "grid_template_rows": null,
            "height": null,
            "justify_content": null,
            "justify_items": null,
            "left": null,
            "margin": null,
            "max_height": null,
            "max_width": null,
            "min_height": null,
            "min_width": null,
            "object_fit": null,
            "object_position": null,
            "order": null,
            "overflow": null,
            "overflow_x": null,
            "overflow_y": null,
            "padding": null,
            "right": null,
            "top": null,
            "visibility": null,
            "width": null
          }
        },
        "bc10e170b5bf4ff5a035cd5fcbba69f8": {
          "model_module": "@jupyter-widgets/controls",
          "model_name": "DescriptionStyleModel",
          "model_module_version": "1.5.0",
          "state": {
            "_model_module": "@jupyter-widgets/controls",
            "_model_module_version": "1.5.0",
            "_model_name": "DescriptionStyleModel",
            "_view_count": null,
            "_view_module": "@jupyter-widgets/base",
            "_view_module_version": "1.2.0",
            "_view_name": "StyleView",
            "description_width": ""
          }
        },
        "aca2cbd3cdc74d27b094dd9531c7029a": {
          "model_module": "@jupyter-widgets/base",
          "model_name": "LayoutModel",
          "model_module_version": "1.2.0",
          "state": {
            "_model_module": "@jupyter-widgets/base",
            "_model_module_version": "1.2.0",
            "_model_name": "LayoutModel",
            "_view_count": null,
            "_view_module": "@jupyter-widgets/base",
            "_view_module_version": "1.2.0",
            "_view_name": "LayoutView",
            "align_content": null,
            "align_items": null,
            "align_self": null,
            "border": null,
            "bottom": null,
            "display": null,
            "flex": null,
            "flex_flow": null,
            "grid_area": null,
            "grid_auto_columns": null,
            "grid_auto_flow": null,
            "grid_auto_rows": null,
            "grid_column": null,
            "grid_gap": null,
            "grid_row": null,
            "grid_template_areas": null,
            "grid_template_columns": null,
            "grid_template_rows": null,
            "height": null,
            "justify_content": null,
            "justify_items": null,
            "left": null,
            "margin": null,
            "max_height": null,
            "max_width": null,
            "min_height": null,
            "min_width": null,
            "object_fit": null,
            "object_position": null,
            "order": null,
            "overflow": null,
            "overflow_x": null,
            "overflow_y": null,
            "padding": null,
            "right": null,
            "top": null,
            "visibility": null,
            "width": null
          }
        },
        "81c4a1bbf30a46fc80f83c2cd20f904c": {
          "model_module": "@jupyter-widgets/controls",
          "model_name": "ProgressStyleModel",
          "model_module_version": "1.5.0",
          "state": {
            "_model_module": "@jupyter-widgets/controls",
            "_model_module_version": "1.5.0",
            "_model_name": "ProgressStyleModel",
            "_view_count": null,
            "_view_module": "@jupyter-widgets/base",
            "_view_module_version": "1.2.0",
            "_view_name": "StyleView",
            "bar_color": null,
            "description_width": ""
          }
        },
        "5774a25a7c8a4515938bb9249b12b819": {
          "model_module": "@jupyter-widgets/base",
          "model_name": "LayoutModel",
          "model_module_version": "1.2.0",
          "state": {
            "_model_module": "@jupyter-widgets/base",
            "_model_module_version": "1.2.0",
            "_model_name": "LayoutModel",
            "_view_count": null,
            "_view_module": "@jupyter-widgets/base",
            "_view_module_version": "1.2.0",
            "_view_name": "LayoutView",
            "align_content": null,
            "align_items": null,
            "align_self": null,
            "border": null,
            "bottom": null,
            "display": null,
            "flex": null,
            "flex_flow": null,
            "grid_area": null,
            "grid_auto_columns": null,
            "grid_auto_flow": null,
            "grid_auto_rows": null,
            "grid_column": null,
            "grid_gap": null,
            "grid_row": null,
            "grid_template_areas": null,
            "grid_template_columns": null,
            "grid_template_rows": null,
            "height": null,
            "justify_content": null,
            "justify_items": null,
            "left": null,
            "margin": null,
            "max_height": null,
            "max_width": null,
            "min_height": null,
            "min_width": null,
            "object_fit": null,
            "object_position": null,
            "order": null,
            "overflow": null,
            "overflow_x": null,
            "overflow_y": null,
            "padding": null,
            "right": null,
            "top": null,
            "visibility": null,
            "width": null
          }
        },
        "725e6335be344e02b9ba009f69ed547b": {
          "model_module": "@jupyter-widgets/controls",
          "model_name": "DescriptionStyleModel",
          "model_module_version": "1.5.0",
          "state": {
            "_model_module": "@jupyter-widgets/controls",
            "_model_module_version": "1.5.0",
            "_model_name": "DescriptionStyleModel",
            "_view_count": null,
            "_view_module": "@jupyter-widgets/base",
            "_view_module_version": "1.2.0",
            "_view_name": "StyleView",
            "description_width": ""
          }
        },
        "5671ea560d6046bc86a8377a1b09ed9d": {
          "model_module": "@jupyter-widgets/controls",
          "model_name": "HBoxModel",
          "model_module_version": "1.5.0",
          "state": {
            "_dom_classes": [],
            "_model_module": "@jupyter-widgets/controls",
            "_model_module_version": "1.5.0",
            "_model_name": "HBoxModel",
            "_view_count": null,
            "_view_module": "@jupyter-widgets/controls",
            "_view_module_version": "1.5.0",
            "_view_name": "HBoxView",
            "box_style": "",
            "children": [
              "IPY_MODEL_e08c68ffd41f4caba259b7eb2865a105",
              "IPY_MODEL_8c191834baed4b518e8d5bf017491ffc",
              "IPY_MODEL_c1a64e2af6da417babd28be14088c52e"
            ],
            "layout": "IPY_MODEL_7b193afa3bbb4cbbac661527da098e98"
          }
        },
        "e08c68ffd41f4caba259b7eb2865a105": {
          "model_module": "@jupyter-widgets/controls",
          "model_name": "HTMLModel",
          "model_module_version": "1.5.0",
          "state": {
            "_dom_classes": [],
            "_model_module": "@jupyter-widgets/controls",
            "_model_module_version": "1.5.0",
            "_model_name": "HTMLModel",
            "_view_count": null,
            "_view_module": "@jupyter-widgets/controls",
            "_view_module_version": "1.5.0",
            "_view_name": "HTMLView",
            "description": "",
            "description_tooltip": null,
            "layout": "IPY_MODEL_c53af895983c4859bd7a6932c48ffd07",
            "placeholder": "​",
            "style": "IPY_MODEL_49e15b2167314300bbf6743738682d2b",
            "value": "Loading checkpoint shards: 100%"
          }
        },
        "8c191834baed4b518e8d5bf017491ffc": {
          "model_module": "@jupyter-widgets/controls",
          "model_name": "FloatProgressModel",
          "model_module_version": "1.5.0",
          "state": {
            "_dom_classes": [],
            "_model_module": "@jupyter-widgets/controls",
            "_model_module_version": "1.5.0",
            "_model_name": "FloatProgressModel",
            "_view_count": null,
            "_view_module": "@jupyter-widgets/controls",
            "_view_module_version": "1.5.0",
            "_view_name": "ProgressView",
            "bar_style": "success",
            "description": "",
            "description_tooltip": null,
            "layout": "IPY_MODEL_2adadd2e03114bd7a24cbb2bcf110821",
            "max": 2,
            "min": 0,
            "orientation": "horizontal",
            "style": "IPY_MODEL_42f44ca5f7c94c579f6a1e0716442b46",
            "value": 2
          }
        },
        "c1a64e2af6da417babd28be14088c52e": {
          "model_module": "@jupyter-widgets/controls",
          "model_name": "HTMLModel",
          "model_module_version": "1.5.0",
          "state": {
            "_dom_classes": [],
            "_model_module": "@jupyter-widgets/controls",
            "_model_module_version": "1.5.0",
            "_model_name": "HTMLModel",
            "_view_count": null,
            "_view_module": "@jupyter-widgets/controls",
            "_view_module_version": "1.5.0",
            "_view_name": "HTMLView",
            "description": "",
            "description_tooltip": null,
            "layout": "IPY_MODEL_4e16eacc66e14259813d12a4bd9c88a2",
            "placeholder": "​",
            "style": "IPY_MODEL_7d130f58f70e4f19babbfb3982e07309",
            "value": " 2/2 [00:02&lt;00:00,  1.02s/it]"
          }
        },
        "7b193afa3bbb4cbbac661527da098e98": {
          "model_module": "@jupyter-widgets/base",
          "model_name": "LayoutModel",
          "model_module_version": "1.2.0",
          "state": {
            "_model_module": "@jupyter-widgets/base",
            "_model_module_version": "1.2.0",
            "_model_name": "LayoutModel",
            "_view_count": null,
            "_view_module": "@jupyter-widgets/base",
            "_view_module_version": "1.2.0",
            "_view_name": "LayoutView",
            "align_content": null,
            "align_items": null,
            "align_self": null,
            "border": null,
            "bottom": null,
            "display": null,
            "flex": null,
            "flex_flow": null,
            "grid_area": null,
            "grid_auto_columns": null,
            "grid_auto_flow": null,
            "grid_auto_rows": null,
            "grid_column": null,
            "grid_gap": null,
            "grid_row": null,
            "grid_template_areas": null,
            "grid_template_columns": null,
            "grid_template_rows": null,
            "height": null,
            "justify_content": null,
            "justify_items": null,
            "left": null,
            "margin": null,
            "max_height": null,
            "max_width": null,
            "min_height": null,
            "min_width": null,
            "object_fit": null,
            "object_position": null,
            "order": null,
            "overflow": null,
            "overflow_x": null,
            "overflow_y": null,
            "padding": null,
            "right": null,
            "top": null,
            "visibility": null,
            "width": null
          }
        },
        "c53af895983c4859bd7a6932c48ffd07": {
          "model_module": "@jupyter-widgets/base",
          "model_name": "LayoutModel",
          "model_module_version": "1.2.0",
          "state": {
            "_model_module": "@jupyter-widgets/base",
            "_model_module_version": "1.2.0",
            "_model_name": "LayoutModel",
            "_view_count": null,
            "_view_module": "@jupyter-widgets/base",
            "_view_module_version": "1.2.0",
            "_view_name": "LayoutView",
            "align_content": null,
            "align_items": null,
            "align_self": null,
            "border": null,
            "bottom": null,
            "display": null,
            "flex": null,
            "flex_flow": null,
            "grid_area": null,
            "grid_auto_columns": null,
            "grid_auto_flow": null,
            "grid_auto_rows": null,
            "grid_column": null,
            "grid_gap": null,
            "grid_row": null,
            "grid_template_areas": null,
            "grid_template_columns": null,
            "grid_template_rows": null,
            "height": null,
            "justify_content": null,
            "justify_items": null,
            "left": null,
            "margin": null,
            "max_height": null,
            "max_width": null,
            "min_height": null,
            "min_width": null,
            "object_fit": null,
            "object_position": null,
            "order": null,
            "overflow": null,
            "overflow_x": null,
            "overflow_y": null,
            "padding": null,
            "right": null,
            "top": null,
            "visibility": null,
            "width": null
          }
        },
        "49e15b2167314300bbf6743738682d2b": {
          "model_module": "@jupyter-widgets/controls",
          "model_name": "DescriptionStyleModel",
          "model_module_version": "1.5.0",
          "state": {
            "_model_module": "@jupyter-widgets/controls",
            "_model_module_version": "1.5.0",
            "_model_name": "DescriptionStyleModel",
            "_view_count": null,
            "_view_module": "@jupyter-widgets/base",
            "_view_module_version": "1.2.0",
            "_view_name": "StyleView",
            "description_width": ""
          }
        },
        "2adadd2e03114bd7a24cbb2bcf110821": {
          "model_module": "@jupyter-widgets/base",
          "model_name": "LayoutModel",
          "model_module_version": "1.2.0",
          "state": {
            "_model_module": "@jupyter-widgets/base",
            "_model_module_version": "1.2.0",
            "_model_name": "LayoutModel",
            "_view_count": null,
            "_view_module": "@jupyter-widgets/base",
            "_view_module_version": "1.2.0",
            "_view_name": "LayoutView",
            "align_content": null,
            "align_items": null,
            "align_self": null,
            "border": null,
            "bottom": null,
            "display": null,
            "flex": null,
            "flex_flow": null,
            "grid_area": null,
            "grid_auto_columns": null,
            "grid_auto_flow": null,
            "grid_auto_rows": null,
            "grid_column": null,
            "grid_gap": null,
            "grid_row": null,
            "grid_template_areas": null,
            "grid_template_columns": null,
            "grid_template_rows": null,
            "height": null,
            "justify_content": null,
            "justify_items": null,
            "left": null,
            "margin": null,
            "max_height": null,
            "max_width": null,
            "min_height": null,
            "min_width": null,
            "object_fit": null,
            "object_position": null,
            "order": null,
            "overflow": null,
            "overflow_x": null,
            "overflow_y": null,
            "padding": null,
            "right": null,
            "top": null,
            "visibility": null,
            "width": null
          }
        },
        "42f44ca5f7c94c579f6a1e0716442b46": {
          "model_module": "@jupyter-widgets/controls",
          "model_name": "ProgressStyleModel",
          "model_module_version": "1.5.0",
          "state": {
            "_model_module": "@jupyter-widgets/controls",
            "_model_module_version": "1.5.0",
            "_model_name": "ProgressStyleModel",
            "_view_count": null,
            "_view_module": "@jupyter-widgets/base",
            "_view_module_version": "1.2.0",
            "_view_name": "StyleView",
            "bar_color": null,
            "description_width": ""
          }
        },
        "4e16eacc66e14259813d12a4bd9c88a2": {
          "model_module": "@jupyter-widgets/base",
          "model_name": "LayoutModel",
          "model_module_version": "1.2.0",
          "state": {
            "_model_module": "@jupyter-widgets/base",
            "_model_module_version": "1.2.0",
            "_model_name": "LayoutModel",
            "_view_count": null,
            "_view_module": "@jupyter-widgets/base",
            "_view_module_version": "1.2.0",
            "_view_name": "LayoutView",
            "align_content": null,
            "align_items": null,
            "align_self": null,
            "border": null,
            "bottom": null,
            "display": null,
            "flex": null,
            "flex_flow": null,
            "grid_area": null,
            "grid_auto_columns": null,
            "grid_auto_flow": null,
            "grid_auto_rows": null,
            "grid_column": null,
            "grid_gap": null,
            "grid_row": null,
            "grid_template_areas": null,
            "grid_template_columns": null,
            "grid_template_rows": null,
            "height": null,
            "justify_content": null,
            "justify_items": null,
            "left": null,
            "margin": null,
            "max_height": null,
            "max_width": null,
            "min_height": null,
            "min_width": null,
            "object_fit": null,
            "object_position": null,
            "order": null,
            "overflow": null,
            "overflow_x": null,
            "overflow_y": null,
            "padding": null,
            "right": null,
            "top": null,
            "visibility": null,
            "width": null
          }
        },
        "7d130f58f70e4f19babbfb3982e07309": {
          "model_module": "@jupyter-widgets/controls",
          "model_name": "DescriptionStyleModel",
          "model_module_version": "1.5.0",
          "state": {
            "_model_module": "@jupyter-widgets/controls",
            "_model_module_version": "1.5.0",
            "_model_name": "DescriptionStyleModel",
            "_view_count": null,
            "_view_module": "@jupyter-widgets/base",
            "_view_module_version": "1.2.0",
            "_view_name": "StyleView",
            "description_width": ""
          }
        },
        "e9720ed3d0224164a9a982a9637fe9db": {
          "model_module": "@jupyter-widgets/controls",
          "model_name": "HBoxModel",
          "model_module_version": "1.5.0",
          "state": {
            "_dom_classes": [],
            "_model_module": "@jupyter-widgets/controls",
            "_model_module_version": "1.5.0",
            "_model_name": "HBoxModel",
            "_view_count": null,
            "_view_module": "@jupyter-widgets/controls",
            "_view_module_version": "1.5.0",
            "_view_name": "HBoxView",
            "box_style": "",
            "children": [
              "IPY_MODEL_184b795548dc400b8ca2160dd35a8267",
              "IPY_MODEL_aa5d72d921574c47b88dbe2c6c15d2ac",
              "IPY_MODEL_bbf13a00b62045afba5347640c6a5a04"
            ],
            "layout": "IPY_MODEL_c90dccac85e84d128b96bca85b87e932"
          }
        },
        "184b795548dc400b8ca2160dd35a8267": {
          "model_module": "@jupyter-widgets/controls",
          "model_name": "HTMLModel",
          "model_module_version": "1.5.0",
          "state": {
            "_dom_classes": [],
            "_model_module": "@jupyter-widgets/controls",
            "_model_module_version": "1.5.0",
            "_model_name": "HTMLModel",
            "_view_count": null,
            "_view_module": "@jupyter-widgets/controls",
            "_view_module_version": "1.5.0",
            "_view_name": "HTMLView",
            "description": "",
            "description_tooltip": null,
            "layout": "IPY_MODEL_cc59a5fba9df43968862dee6a916439f",
            "placeholder": "​",
            "style": "IPY_MODEL_9d32aabb3d0b4251afe32365301278c1",
            "value": "Generating train split: "
          }
        },
        "aa5d72d921574c47b88dbe2c6c15d2ac": {
          "model_module": "@jupyter-widgets/controls",
          "model_name": "FloatProgressModel",
          "model_module_version": "1.5.0",
          "state": {
            "_dom_classes": [],
            "_model_module": "@jupyter-widgets/controls",
            "_model_module_version": "1.5.0",
            "_model_name": "FloatProgressModel",
            "_view_count": null,
            "_view_module": "@jupyter-widgets/controls",
            "_view_module_version": "1.5.0",
            "_view_name": "ProgressView",
            "bar_style": "success",
            "description": "",
            "description_tooltip": null,
            "layout": "IPY_MODEL_7ae176aa8759471ea1e3a8453b5597d2",
            "max": 1,
            "min": 0,
            "orientation": "horizontal",
            "style": "IPY_MODEL_5ae896fa68e942df8ea679dd84977360",
            "value": 1
          }
        },
        "bbf13a00b62045afba5347640c6a5a04": {
          "model_module": "@jupyter-widgets/controls",
          "model_name": "HTMLModel",
          "model_module_version": "1.5.0",
          "state": {
            "_dom_classes": [],
            "_model_module": "@jupyter-widgets/controls",
            "_model_module_version": "1.5.0",
            "_model_name": "HTMLModel",
            "_view_count": null,
            "_view_module": "@jupyter-widgets/controls",
            "_view_module_version": "1.5.0",
            "_view_name": "HTMLView",
            "description": "",
            "description_tooltip": null,
            "layout": "IPY_MODEL_4e9bdc9d3efe40209e67ffb4ecfb93a0",
            "placeholder": "​",
            "style": "IPY_MODEL_78b68afe7eca42eab68c03f89d860862",
            "value": " 1024/0 [00:00&lt;00:00, 5497.48 examples/s]"
          }
        },
        "c90dccac85e84d128b96bca85b87e932": {
          "model_module": "@jupyter-widgets/base",
          "model_name": "LayoutModel",
          "model_module_version": "1.2.0",
          "state": {
            "_model_module": "@jupyter-widgets/base",
            "_model_module_version": "1.2.0",
            "_model_name": "LayoutModel",
            "_view_count": null,
            "_view_module": "@jupyter-widgets/base",
            "_view_module_version": "1.2.0",
            "_view_name": "LayoutView",
            "align_content": null,
            "align_items": null,
            "align_self": null,
            "border": null,
            "bottom": null,
            "display": null,
            "flex": null,
            "flex_flow": null,
            "grid_area": null,
            "grid_auto_columns": null,
            "grid_auto_flow": null,
            "grid_auto_rows": null,
            "grid_column": null,
            "grid_gap": null,
            "grid_row": null,
            "grid_template_areas": null,
            "grid_template_columns": null,
            "grid_template_rows": null,
            "height": null,
            "justify_content": null,
            "justify_items": null,
            "left": null,
            "margin": null,
            "max_height": null,
            "max_width": null,
            "min_height": null,
            "min_width": null,
            "object_fit": null,
            "object_position": null,
            "order": null,
            "overflow": null,
            "overflow_x": null,
            "overflow_y": null,
            "padding": null,
            "right": null,
            "top": null,
            "visibility": null,
            "width": null
          }
        },
        "cc59a5fba9df43968862dee6a916439f": {
          "model_module": "@jupyter-widgets/base",
          "model_name": "LayoutModel",
          "model_module_version": "1.2.0",
          "state": {
            "_model_module": "@jupyter-widgets/base",
            "_model_module_version": "1.2.0",
            "_model_name": "LayoutModel",
            "_view_count": null,
            "_view_module": "@jupyter-widgets/base",
            "_view_module_version": "1.2.0",
            "_view_name": "LayoutView",
            "align_content": null,
            "align_items": null,
            "align_self": null,
            "border": null,
            "bottom": null,
            "display": null,
            "flex": null,
            "flex_flow": null,
            "grid_area": null,
            "grid_auto_columns": null,
            "grid_auto_flow": null,
            "grid_auto_rows": null,
            "grid_column": null,
            "grid_gap": null,
            "grid_row": null,
            "grid_template_areas": null,
            "grid_template_columns": null,
            "grid_template_rows": null,
            "height": null,
            "justify_content": null,
            "justify_items": null,
            "left": null,
            "margin": null,
            "max_height": null,
            "max_width": null,
            "min_height": null,
            "min_width": null,
            "object_fit": null,
            "object_position": null,
            "order": null,
            "overflow": null,
            "overflow_x": null,
            "overflow_y": null,
            "padding": null,
            "right": null,
            "top": null,
            "visibility": null,
            "width": null
          }
        },
        "9d32aabb3d0b4251afe32365301278c1": {
          "model_module": "@jupyter-widgets/controls",
          "model_name": "DescriptionStyleModel",
          "model_module_version": "1.5.0",
          "state": {
            "_model_module": "@jupyter-widgets/controls",
            "_model_module_version": "1.5.0",
            "_model_name": "DescriptionStyleModel",
            "_view_count": null,
            "_view_module": "@jupyter-widgets/base",
            "_view_module_version": "1.2.0",
            "_view_name": "StyleView",
            "description_width": ""
          }
        },
        "7ae176aa8759471ea1e3a8453b5597d2": {
          "model_module": "@jupyter-widgets/base",
          "model_name": "LayoutModel",
          "model_module_version": "1.2.0",
          "state": {
            "_model_module": "@jupyter-widgets/base",
            "_model_module_version": "1.2.0",
            "_model_name": "LayoutModel",
            "_view_count": null,
            "_view_module": "@jupyter-widgets/base",
            "_view_module_version": "1.2.0",
            "_view_name": "LayoutView",
            "align_content": null,
            "align_items": null,
            "align_self": null,
            "border": null,
            "bottom": null,
            "display": null,
            "flex": null,
            "flex_flow": null,
            "grid_area": null,
            "grid_auto_columns": null,
            "grid_auto_flow": null,
            "grid_auto_rows": null,
            "grid_column": null,
            "grid_gap": null,
            "grid_row": null,
            "grid_template_areas": null,
            "grid_template_columns": null,
            "grid_template_rows": null,
            "height": null,
            "justify_content": null,
            "justify_items": null,
            "left": null,
            "margin": null,
            "max_height": null,
            "max_width": null,
            "min_height": null,
            "min_width": null,
            "object_fit": null,
            "object_position": null,
            "order": null,
            "overflow": null,
            "overflow_x": null,
            "overflow_y": null,
            "padding": null,
            "right": null,
            "top": null,
            "visibility": null,
            "width": "20px"
          }
        },
        "5ae896fa68e942df8ea679dd84977360": {
          "model_module": "@jupyter-widgets/controls",
          "model_name": "ProgressStyleModel",
          "model_module_version": "1.5.0",
          "state": {
            "_model_module": "@jupyter-widgets/controls",
            "_model_module_version": "1.5.0",
            "_model_name": "ProgressStyleModel",
            "_view_count": null,
            "_view_module": "@jupyter-widgets/base",
            "_view_module_version": "1.2.0",
            "_view_name": "StyleView",
            "bar_color": null,
            "description_width": ""
          }
        },
        "4e9bdc9d3efe40209e67ffb4ecfb93a0": {
          "model_module": "@jupyter-widgets/base",
          "model_name": "LayoutModel",
          "model_module_version": "1.2.0",
          "state": {
            "_model_module": "@jupyter-widgets/base",
            "_model_module_version": "1.2.0",
            "_model_name": "LayoutModel",
            "_view_count": null,
            "_view_module": "@jupyter-widgets/base",
            "_view_module_version": "1.2.0",
            "_view_name": "LayoutView",
            "align_content": null,
            "align_items": null,
            "align_self": null,
            "border": null,
            "bottom": null,
            "display": null,
            "flex": null,
            "flex_flow": null,
            "grid_area": null,
            "grid_auto_columns": null,
            "grid_auto_flow": null,
            "grid_auto_rows": null,
            "grid_column": null,
            "grid_gap": null,
            "grid_row": null,
            "grid_template_areas": null,
            "grid_template_columns": null,
            "grid_template_rows": null,
            "height": null,
            "justify_content": null,
            "justify_items": null,
            "left": null,
            "margin": null,
            "max_height": null,
            "max_width": null,
            "min_height": null,
            "min_width": null,
            "object_fit": null,
            "object_position": null,
            "order": null,
            "overflow": null,
            "overflow_x": null,
            "overflow_y": null,
            "padding": null,
            "right": null,
            "top": null,
            "visibility": null,
            "width": null
          }
        },
        "78b68afe7eca42eab68c03f89d860862": {
          "model_module": "@jupyter-widgets/controls",
          "model_name": "DescriptionStyleModel",
          "model_module_version": "1.5.0",
          "state": {
            "_model_module": "@jupyter-widgets/controls",
            "_model_module_version": "1.5.0",
            "_model_name": "DescriptionStyleModel",
            "_view_count": null,
            "_view_module": "@jupyter-widgets/base",
            "_view_module_version": "1.2.0",
            "_view_name": "StyleView",
            "description_width": ""
          }
        },
        "4cc468d680dd4d4db58d3fe105a76bb1": {
          "model_module": "@jupyter-widgets/controls",
          "model_name": "HBoxModel",
          "model_module_version": "1.5.0",
          "state": {
            "_dom_classes": [],
            "_model_module": "@jupyter-widgets/controls",
            "_model_module_version": "1.5.0",
            "_model_name": "HBoxModel",
            "_view_count": null,
            "_view_module": "@jupyter-widgets/controls",
            "_view_module_version": "1.5.0",
            "_view_name": "HBoxView",
            "box_style": "",
            "children": [
              "IPY_MODEL_47a373c968404ea9b81d5d2b187f4b1e",
              "IPY_MODEL_c671dd62cbf642b5ba20d16bf95bda51",
              "IPY_MODEL_8e89ad4cecc240a490d4629d64748109"
            ],
            "layout": "IPY_MODEL_c72fbc444dbe472b865808f3958517bb"
          }
        },
        "47a373c968404ea9b81d5d2b187f4b1e": {
          "model_module": "@jupyter-widgets/controls",
          "model_name": "HTMLModel",
          "model_module_version": "1.5.0",
          "state": {
            "_dom_classes": [],
            "_model_module": "@jupyter-widgets/controls",
            "_model_module_version": "1.5.0",
            "_model_name": "HTMLModel",
            "_view_count": null,
            "_view_module": "@jupyter-widgets/controls",
            "_view_module_version": "1.5.0",
            "_view_name": "HTMLView",
            "description": "",
            "description_tooltip": null,
            "layout": "IPY_MODEL_e911b3c15c00438482aeaba0a5d9e337",
            "placeholder": "​",
            "style": "IPY_MODEL_2d8f219025b443b2b5ece04940bc095d",
            "value": "Map: 100%"
          }
        },
        "c671dd62cbf642b5ba20d16bf95bda51": {
          "model_module": "@jupyter-widgets/controls",
          "model_name": "FloatProgressModel",
          "model_module_version": "1.5.0",
          "state": {
            "_dom_classes": [],
            "_model_module": "@jupyter-widgets/controls",
            "_model_module_version": "1.5.0",
            "_model_name": "FloatProgressModel",
            "_view_count": null,
            "_view_module": "@jupyter-widgets/controls",
            "_view_module_version": "1.5.0",
            "_view_name": "ProgressView",
            "bar_style": "success",
            "description": "",
            "description_tooltip": null,
            "layout": "IPY_MODEL_e46fb94ece85437ba1222938af75de89",
            "max": 1024,
            "min": 0,
            "orientation": "horizontal",
            "style": "IPY_MODEL_99254a5df9d44dde9f434fab1be43a5b",
            "value": 1024
          }
        },
        "8e89ad4cecc240a490d4629d64748109": {
          "model_module": "@jupyter-widgets/controls",
          "model_name": "HTMLModel",
          "model_module_version": "1.5.0",
          "state": {
            "_dom_classes": [],
            "_model_module": "@jupyter-widgets/controls",
            "_model_module_version": "1.5.0",
            "_model_name": "HTMLModel",
            "_view_count": null,
            "_view_module": "@jupyter-widgets/controls",
            "_view_module_version": "1.5.0",
            "_view_name": "HTMLView",
            "description": "",
            "description_tooltip": null,
            "layout": "IPY_MODEL_2f314bd7da7b48f0acf1f2d9a9e65376",
            "placeholder": "​",
            "style": "IPY_MODEL_18ae8e5b29f84e4181c797b2154cb834",
            "value": " 1024/1024 [00:00&lt;00:00, 10355.26 examples/s]"
          }
        },
        "c72fbc444dbe472b865808f3958517bb": {
          "model_module": "@jupyter-widgets/base",
          "model_name": "LayoutModel",
          "model_module_version": "1.2.0",
          "state": {
            "_model_module": "@jupyter-widgets/base",
            "_model_module_version": "1.2.0",
            "_model_name": "LayoutModel",
            "_view_count": null,
            "_view_module": "@jupyter-widgets/base",
            "_view_module_version": "1.2.0",
            "_view_name": "LayoutView",
            "align_content": null,
            "align_items": null,
            "align_self": null,
            "border": null,
            "bottom": null,
            "display": null,
            "flex": null,
            "flex_flow": null,
            "grid_area": null,
            "grid_auto_columns": null,
            "grid_auto_flow": null,
            "grid_auto_rows": null,
            "grid_column": null,
            "grid_gap": null,
            "grid_row": null,
            "grid_template_areas": null,
            "grid_template_columns": null,
            "grid_template_rows": null,
            "height": null,
            "justify_content": null,
            "justify_items": null,
            "left": null,
            "margin": null,
            "max_height": null,
            "max_width": null,
            "min_height": null,
            "min_width": null,
            "object_fit": null,
            "object_position": null,
            "order": null,
            "overflow": null,
            "overflow_x": null,
            "overflow_y": null,
            "padding": null,
            "right": null,
            "top": null,
            "visibility": null,
            "width": null
          }
        },
        "e911b3c15c00438482aeaba0a5d9e337": {
          "model_module": "@jupyter-widgets/base",
          "model_name": "LayoutModel",
          "model_module_version": "1.2.0",
          "state": {
            "_model_module": "@jupyter-widgets/base",
            "_model_module_version": "1.2.0",
            "_model_name": "LayoutModel",
            "_view_count": null,
            "_view_module": "@jupyter-widgets/base",
            "_view_module_version": "1.2.0",
            "_view_name": "LayoutView",
            "align_content": null,
            "align_items": null,
            "align_self": null,
            "border": null,
            "bottom": null,
            "display": null,
            "flex": null,
            "flex_flow": null,
            "grid_area": null,
            "grid_auto_columns": null,
            "grid_auto_flow": null,
            "grid_auto_rows": null,
            "grid_column": null,
            "grid_gap": null,
            "grid_row": null,
            "grid_template_areas": null,
            "grid_template_columns": null,
            "grid_template_rows": null,
            "height": null,
            "justify_content": null,
            "justify_items": null,
            "left": null,
            "margin": null,
            "max_height": null,
            "max_width": null,
            "min_height": null,
            "min_width": null,
            "object_fit": null,
            "object_position": null,
            "order": null,
            "overflow": null,
            "overflow_x": null,
            "overflow_y": null,
            "padding": null,
            "right": null,
            "top": null,
            "visibility": null,
            "width": null
          }
        },
        "2d8f219025b443b2b5ece04940bc095d": {
          "model_module": "@jupyter-widgets/controls",
          "model_name": "DescriptionStyleModel",
          "model_module_version": "1.5.0",
          "state": {
            "_model_module": "@jupyter-widgets/controls",
            "_model_module_version": "1.5.0",
            "_model_name": "DescriptionStyleModel",
            "_view_count": null,
            "_view_module": "@jupyter-widgets/base",
            "_view_module_version": "1.2.0",
            "_view_name": "StyleView",
            "description_width": ""
          }
        },
        "e46fb94ece85437ba1222938af75de89": {
          "model_module": "@jupyter-widgets/base",
          "model_name": "LayoutModel",
          "model_module_version": "1.2.0",
          "state": {
            "_model_module": "@jupyter-widgets/base",
            "_model_module_version": "1.2.0",
            "_model_name": "LayoutModel",
            "_view_count": null,
            "_view_module": "@jupyter-widgets/base",
            "_view_module_version": "1.2.0",
            "_view_name": "LayoutView",
            "align_content": null,
            "align_items": null,
            "align_self": null,
            "border": null,
            "bottom": null,
            "display": null,
            "flex": null,
            "flex_flow": null,
            "grid_area": null,
            "grid_auto_columns": null,
            "grid_auto_flow": null,
            "grid_auto_rows": null,
            "grid_column": null,
            "grid_gap": null,
            "grid_row": null,
            "grid_template_areas": null,
            "grid_template_columns": null,
            "grid_template_rows": null,
            "height": null,
            "justify_content": null,
            "justify_items": null,
            "left": null,
            "margin": null,
            "max_height": null,
            "max_width": null,
            "min_height": null,
            "min_width": null,
            "object_fit": null,
            "object_position": null,
            "order": null,
            "overflow": null,
            "overflow_x": null,
            "overflow_y": null,
            "padding": null,
            "right": null,
            "top": null,
            "visibility": null,
            "width": null
          }
        },
        "99254a5df9d44dde9f434fab1be43a5b": {
          "model_module": "@jupyter-widgets/controls",
          "model_name": "ProgressStyleModel",
          "model_module_version": "1.5.0",
          "state": {
            "_model_module": "@jupyter-widgets/controls",
            "_model_module_version": "1.5.0",
            "_model_name": "ProgressStyleModel",
            "_view_count": null,
            "_view_module": "@jupyter-widgets/base",
            "_view_module_version": "1.2.0",
            "_view_name": "StyleView",
            "bar_color": null,
            "description_width": ""
          }
        },
        "2f314bd7da7b48f0acf1f2d9a9e65376": {
          "model_module": "@jupyter-widgets/base",
          "model_name": "LayoutModel",
          "model_module_version": "1.2.0",
          "state": {
            "_model_module": "@jupyter-widgets/base",
            "_model_module_version": "1.2.0",
            "_model_name": "LayoutModel",
            "_view_count": null,
            "_view_module": "@jupyter-widgets/base",
            "_view_module_version": "1.2.0",
            "_view_name": "LayoutView",
            "align_content": null,
            "align_items": null,
            "align_self": null,
            "border": null,
            "bottom": null,
            "display": null,
            "flex": null,
            "flex_flow": null,
            "grid_area": null,
            "grid_auto_columns": null,
            "grid_auto_flow": null,
            "grid_auto_rows": null,
            "grid_column": null,
            "grid_gap": null,
            "grid_row": null,
            "grid_template_areas": null,
            "grid_template_columns": null,
            "grid_template_rows": null,
            "height": null,
            "justify_content": null,
            "justify_items": null,
            "left": null,
            "margin": null,
            "max_height": null,
            "max_width": null,
            "min_height": null,
            "min_width": null,
            "object_fit": null,
            "object_position": null,
            "order": null,
            "overflow": null,
            "overflow_x": null,
            "overflow_y": null,
            "padding": null,
            "right": null,
            "top": null,
            "visibility": null,
            "width": null
          }
        },
        "18ae8e5b29f84e4181c797b2154cb834": {
          "model_module": "@jupyter-widgets/controls",
          "model_name": "DescriptionStyleModel",
          "model_module_version": "1.5.0",
          "state": {
            "_model_module": "@jupyter-widgets/controls",
            "_model_module_version": "1.5.0",
            "_model_name": "DescriptionStyleModel",
            "_view_count": null,
            "_view_module": "@jupyter-widgets/base",
            "_view_module_version": "1.2.0",
            "_view_name": "StyleView",
            "description_width": ""
          }
        }
      }
    }
  },
  "cells": [
    {
      "cell_type": "markdown",
      "source": [
        "# Intelligent Chat Bot for Korean Live Streaming Flatforms\n",
        "\n",
        "Video live streaming services are interactive media contents between streamers and viewers by live chats. As streamers are willing to manage chats smarter, intelligent chat bots are needed. This project is making live stream chat bots with Gemma2 2B model as AfreecaTV(SOOP) extension program in order to detect questions from live chats and answer them automatically, or check inappropriate texts and remove various types of spams.\n",
        "\n",
        "Primary goal is to classify questions from live chats and answer them by fine tuned Gemma model.\n",
        "\n",
        "Project: Gemma Sprint Project @ 2024 Google Machine Learning Bootcamp Korea\n",
        "\n",
        "Autor: Seonghyeok Jo, Kangwon National University."
      ],
      "metadata": {
        "id": "eSlW9C-bTKEx"
      }
    },
    {
      "cell_type": "code",
      "source": [
        "!pip install -q websockets api scikit_learn==1.4.2 numpy pandas altair pyarrow==15.0.2 datasets peft trl accelerate transformers bitsandbytes wandb"
      ],
      "metadata": {
        "id": "kDVV61WTLI_T"
      },
      "execution_count": 12,
      "outputs": []
    },
    {
      "cell_type": "markdown",
      "source": [
        "## 1. Live Chat Crawling with AfreecaTV API\n"
      ],
      "metadata": {
        "id": "XalbGR_2Q13v"
      }
    },
    {
      "cell_type": "markdown",
      "source": [
        "We need to get live chats for input. There is a magnificent code to crawl chats. Let's use this.\n",
        "\n",
        "AfreecaTV Chat Crawler by **Soohyun-Chae(cha2hyun)** : [GitHub Repo](https://github.com/cha2hyun/afreecatv-chat-crawler)"
      ],
      "metadata": {
        "id": "erO4Jh0UWS7l"
      }
    },
    {
      "cell_type": "code",
      "source": [
        "import certifi\n",
        "import ssl\n",
        "import asyncio\n",
        "import websockets\n",
        "import requests\n",
        "\n",
        "# 유니코드 및 기타 상수\n",
        "# Unicode and other constants\n",
        "F = \"\\x0c\"\n",
        "ESC = \"\\x1b\\t\"\n",
        "SEPARATOR = \"+\" + \"-\" * 70 + \"+\""
      ],
      "metadata": {
        "id": "363dzPFWP1PS"
      },
      "execution_count": 13,
      "outputs": []
    },
    {
      "cell_type": "code",
      "source": [
        "# 아프리카TV에서 제공하는 API로 채팅 정보를 받습니다.\n",
        "# Receives chat information using the API provided by AfreecaTV.\n",
        "def get_player_live(bno, bid):\n",
        "    url = 'https://live.afreecatv.com/afreeca/player_live_api.php'\n",
        "    data = {\n",
        "        'bid': bid,\n",
        "        'bno': bno,\n",
        "        'type': 'live',\n",
        "        'confirm_adult': 'false',\n",
        "        'player_type': 'html5',\n",
        "        'mode': 'landing',\n",
        "        'from_api': '0',\n",
        "        'pwd': '',\n",
        "        'stream_type': 'common',\n",
        "        'quality': 'HD'\n",
        "    }\n",
        "\n",
        "    try:\n",
        "        response = requests.post(f'{url}?bjid={bid}', data=data)\n",
        "        # HTTP 요청 에러를 확인하고, 에러가 있을 경우 예외를 발생시킵니다.\n",
        "        # Checks for HTTP request errors and raises an exception if there are any.\n",
        "        response.raise_for_status()\n",
        "        res = response.json()\n",
        "\n",
        "        CHDOMAIN = res[\"CHANNEL\"][\"CHDOMAIN\"].lower()\n",
        "        CHATNO = res[\"CHANNEL\"][\"CHATNO\"]\n",
        "        FTK = res[\"CHANNEL\"][\"FTK\"]\n",
        "        TITLE = res[\"CHANNEL\"][\"TITLE\"]\n",
        "        BJID = res[\"CHANNEL\"][\"BJID\"]\n",
        "        CHPT = str(int(res[\"CHANNEL\"][\"CHPT\"]) + 1)\n",
        "\n",
        "        return CHDOMAIN, CHATNO, FTK, TITLE, BJID, CHPT\n",
        "\n",
        "    except requests.RequestException as e:\n",
        "        print(f\"  ERROR: API 요청 중 오류 발생: {e}\")\n",
        "        return None\n",
        "    except KeyError as e:\n",
        "        print(f\"  ERROR: 응답에서 필요한 데이터를 찾을 수 없습니다: {e}\")\n",
        "        return None"
      ],
      "metadata": {
        "id": "RswTQ9GyaGw-"
      },
      "execution_count": 14,
      "outputs": []
    },
    {
      "cell_type": "code",
      "source": [
        "# SSL 컨텍스트 생성\n",
        "# Create SSL context.\n",
        "def create_ssl_context():\n",
        "    ssl_context = ssl.create_default_context()\n",
        "    ssl_context.load_verify_locations(certifi.where())\n",
        "    ssl_context.check_hostname = False\n",
        "    ssl_context.verify_mode = ssl.CERT_NONE\n",
        "    return ssl_context"
      ],
      "metadata": {
        "id": "ZfIfZzNAaEUg"
      },
      "execution_count": 6,
      "outputs": []
    },
    {
      "cell_type": "code",
      "source": [
        "# 메시지 디코드 및 출력\n",
        "# Decode messages and print.\n",
        "def decode_message(bytes):\n",
        "    parts = bytes.split(b'\\x0c')\n",
        "    messages = [part.decode('utf-8') for part in parts]\n",
        "    if len(messages) > 5 and messages[1] not in ['-1', '1'] and '|' not in messages[1]:\n",
        "        user_id, comment, user_nickname = messages[2], messages[1], messages[6]\n",
        "        print(SEPARATOR)\n",
        "        print(f\"| {user_nickname}[{user_id}] - {comment}\")\n",
        "    else:\n",
        "        # 채팅 뿐만 아니라 다른 메세지도 동시에 내려옵니다.\n",
        "        # Not only chat messages, but other messages also come through at the same time.\n",
        "        pass"
      ],
      "metadata": {
        "id": "d-p9YTCdaC-h"
      },
      "execution_count": 7,
      "outputs": []
    },
    {
      "cell_type": "code",
      "source": [
        "# 바이트 크기 계산\n",
        "# Calculate byte size.\n",
        "def calculate_byte_size(string):\n",
        "    return len(string.encode('utf-8')) + 6"
      ],
      "metadata": {
        "id": "eLcJLxJxaBfz"
      },
      "execution_count": 8,
      "outputs": []
    },
    {
      "cell_type": "code",
      "source": [
        "# 채팅에 연결\n",
        "# Connect to chat.\n",
        "async def connect_to_chat(url, ssl_context):\n",
        "    try:\n",
        "        BNO, BID = url.split('/')[-1], url.split('/')[-2]\n",
        "        CHDOMAIN, CHATNO, FTK, TITLE, BJID, CHPT = get_player_live(BNO, BID)\n",
        "        print(f\"{SEPARATOR}\\n\"\n",
        "              f\"  CHDOMAIN: {CHDOMAIN}\\n  CHATNO: {CHATNO}\\n  FTK: {FTK}\\n\"\n",
        "              f\"  TITLE: {TITLE}\\n  BJID: {BJID}\\n  CHPT: {CHPT}\\n\"\n",
        "              f\"{SEPARATOR}\")\n",
        "    except Exception as e:\n",
        "        # API call failure.\n",
        "        print(f\"  ERROR: API 호출 실패 - {e}\")\n",
        "        return\n",
        "\n",
        "    try:\n",
        "        async with websockets.connect(\n",
        "            f\"wss://{CHDOMAIN}:{CHPT}/Websocket/{BID}\",\n",
        "            subprotocols=['chat'],\n",
        "            ssl=ssl_context,\n",
        "            ping_interval=None\n",
        "        ) as websocket:\n",
        "            # 최초 연결시 전달하는 패킷\n",
        "            # Packet sent during the initial connection.\n",
        "            CONNECT_PACKET = f'{ESC}000100000600{F*3}16{F}'\n",
        "            # 메세지를 내려받기 위해 보내는 패킷\n",
        "            # Packet sent to receive messages.\n",
        "            JOIN_PACKET = f'{ESC}0002{calculate_byte_size(CHATNO):06}00{F}{CHATNO}{F*5}'\n",
        "            # 주기적으로 핑을 보내서 메세지를 계속 수신하는 패킷\n",
        "            # Packet that periodically sends pings to keep receiving messages.\n",
        "            PING_PACKET = f'{ESC}000000000100{F}'\n",
        "\n",
        "            await websocket.send(CONNECT_PACKET)\n",
        "            print(f\"  연결 성공, 채팅방 정보 수신 대기중...\")\n",
        "            await asyncio.sleep(2)\n",
        "            await websocket.send(JOIN_PACKET)\n",
        "\n",
        "            async def ping():\n",
        "                while True:\n",
        "                    # 5분동안 핑이 보내지지 않으면 소켓은 끊어집니다.\n",
        "                    # Disconnects if ping is not recieved for 5 minutes.\n",
        "                    await asyncio.sleep(60)  # 1분 = 60초\n",
        "                    await websocket.send(PING_PACKET)\n",
        "\n",
        "            async def receive_messages():\n",
        "                while True:\n",
        "                    data = await websocket.recv()\n",
        "                    decode_message(data)\n",
        "\n",
        "            await asyncio.gather(\n",
        "                receive_messages(),\n",
        "                ping(),\n",
        "            )\n",
        "\n",
        "    except Exception as e:\n",
        "        # Web socket connection error.\n",
        "        print(f\"  ERROR: 웹소켓 연결 오류 - {e}\")"
      ],
      "metadata": {
        "id": "oxJkWt0ZZ9m5"
      },
      "execution_count": 9,
      "outputs": []
    },
    {
      "cell_type": "markdown",
      "source": [
        "This is the main function of crawling all the live chats from url's broadcast. The broadcast must be not private or age-restricted."
      ],
      "metadata": {
        "id": "H33ZcCvdM4fY"
      }
    },
    {
      "cell_type": "code",
      "source": [
        "# Enter AfreecaTV URL.\n",
        "# url = input(\"아프리카TV URL을 입력해주세요: \")\n",
        "# ssl_context = create_ssl_context()\n",
        "# await connect_to_chat(url, ssl_context)"
      ],
      "metadata": {
        "id": "fIJfqDioW6Oc"
      },
      "execution_count": 10,
      "outputs": []
    },
    {
      "cell_type": "markdown",
      "source": [
        "# 2. Fine Tuning Gemma2-2b-it\n"
      ],
      "metadata": {
        "id": "StjC5dk5R70w"
      }
    },
    {
      "cell_type": "markdown",
      "source": [
        "There is a fine-tuned Gemma model for Korean.\n",
        "\n",
        "Gemma2-2b-it model by **Google** : [Hugging Face](https://huggingface.co/google/gemma-2-2b-it)"
      ],
      "metadata": {
        "id": "TH5SmfgLNuKC"
      }
    },
    {
      "cell_type": "code",
      "source": [
        "from huggingface_hub import login\n",
        "from google.colab import userdata\n",
        "\n",
        "login(userdata.get('HF_TOKEN'))"
      ],
      "metadata": {
        "id": "PKnIcUP_Pxdu",
        "colab": {
          "base_uri": "https://localhost:8080/"
        },
        "outputId": "7aafc1eb-8b3b-49b9-c80b-c27adaf113a0"
      },
      "execution_count": 15,
      "outputs": [
        {
          "output_type": "stream",
          "name": "stdout",
          "text": [
            "The token has not been saved to the git credentials helper. Pass `add_to_git_credential=True` in this function directly or `--add-to-git-credential` if using via `huggingface-cli` if you want to set the git credential as well.\n",
            "Token is valid (permission: read).\n",
            "Your token has been saved to /root/.cache/huggingface/token\n",
            "Login successful\n"
          ]
        }
      ]
    },
    {
      "cell_type": "code",
      "source": [
        "from transformers import AutoModelForCausalLM, AutoTokenizer, pipeline, TextStreamer\n",
        "import torch\n",
        "\n",
        "tokenizer = AutoTokenizer.from_pretrained(\n",
        "    \"google/gemma-2-2b-it\",\n",
        ")\n",
        "\n",
        "model = AutoModelForCausalLM.from_pretrained(\n",
        "    \"google/gemma-2-2b-it\",\n",
        "    torch_dtype=torch.bfloat16,\n",
        "    device_map='auto',\n",
        ")"
      ],
      "metadata": {
        "id": "vqvgOWWaUr_n",
        "colab": {
          "base_uri": "https://localhost:8080/",
          "height": 49,
          "referenced_widgets": [
            "54a36274889a44ee9059723a58c35bf1",
            "f3fb01cef4ab4da48095b6a9ececbd6f",
            "89e45fd6d95348a1906f3c8e66179255",
            "47577dcd2da941d0abeb6dc6d30d19bb",
            "04dec67a888d4b0ea9a4178516190a1a",
            "c6b344495d5d417d85ecb680e48ae019",
            "bc10e170b5bf4ff5a035cd5fcbba69f8",
            "aca2cbd3cdc74d27b094dd9531c7029a",
            "81c4a1bbf30a46fc80f83c2cd20f904c",
            "5774a25a7c8a4515938bb9249b12b819",
            "725e6335be344e02b9ba009f69ed547b"
          ]
        },
        "outputId": "e0dffc5a-df58-4a81-c613-c545142a3b50"
      },
      "execution_count": 16,
      "outputs": [
        {
          "output_type": "display_data",
          "data": {
            "text/plain": [
              "Loading checkpoint shards:   0%|          | 0/2 [00:00<?, ?it/s]"
            ],
            "application/vnd.jupyter.widget-view+json": {
              "version_major": 2,
              "version_minor": 0,
              "model_id": "54a36274889a44ee9059723a58c35bf1"
            }
          },
          "metadata": {}
        }
      ]
    },
    {
      "cell_type": "code",
      "source": [
        "# streamer = TextStreamer(tokenizer)\n",
        "\n",
        "# messages = [\n",
        "#     {\"role\": \"user\", \"content\": \"대한민국의 수도에 대해 알려줘\"},\n",
        "# ]\n",
        "\n",
        "# input_ids = tokenizer.apply_chat_template(\n",
        "#     messages,\n",
        "#     add_generation_prompt=True,\n",
        "#     return_tensors=\"pt\"\n",
        "# ).to(model.device)\n",
        "\n",
        "# terminators = [\n",
        "#     tokenizer.eos_token_id,\n",
        "#     tokenizer.convert_tokens_to_ids(\"<|end_of_turn|>\")\n",
        "# ]\n",
        "\n",
        "# outputs = model.generate(\n",
        "#     input_ids,\n",
        "#     max_new_tokens=512,\n",
        "#     eos_token_id=terminators,\n",
        "#     do_sample=False,\n",
        "#     repetition_penalty=1.05,\n",
        "#     streamer = streamer\n",
        "# )\n",
        "# response = outputs[0][input_ids.shape[-1]:]\n",
        "# print(tokenizer.decode(response, skip_special_tokens=True))"
      ],
      "metadata": {
        "id": "3y6hluIOHknJ"
      },
      "execution_count": null,
      "outputs": []
    },
    {
      "cell_type": "markdown",
      "source": [
        "\n",
        "Here is an example how to classify specific kinds of statement.\n",
        "\n",
        "Question - Statement model by fine-tuned bert mini model by **Shahrukh Khan** :\n",
        "[Hugging Face](https://huggingface.co/shahrukhx01/bert-mini-finetune-question-detection)"
      ],
      "metadata": {
        "id": "30E59YggrJO5"
      }
    },
    {
      "cell_type": "code",
      "source": [
        "from transformers import AutoTokenizer, AutoModelForSequenceClassification\n",
        "\n",
        "# tokenizer = AutoTokenizer.from_pretrained(\"shahrukhx01/bert-mini-finetune-question-detection\")\n",
        "# model = AutoModelForSequenceClassification.from_pretrained(\"shahrukhx01/bert-mini-finetune-question-detection\")"
      ],
      "metadata": {
        "id": "eeDlLxnOR7T8"
      },
      "execution_count": 23,
      "outputs": []
    },
    {
      "cell_type": "markdown",
      "source": [
        "## 3-1. Calling Chat Dataset for Training\n"
      ],
      "metadata": {
        "id": "y1JPBGjDLrak"
      }
    },
    {
      "cell_type": "code",
      "source": [
        "from google.colab import drive\n",
        "drive.mount('/content/gdrive', force_remount=True)"
      ],
      "metadata": {
        "colab": {
          "base_uri": "https://localhost:8080/"
        },
        "id": "nQ7rfh-sSvOe",
        "outputId": "96193731-2c80-482f-b651-14d4b32cbe67"
      },
      "execution_count": 17,
      "outputs": [
        {
          "output_type": "stream",
          "name": "stdout",
          "text": [
            "Mounted at /content/gdrive\n"
          ]
        }
      ]
    },
    {
      "cell_type": "code",
      "source": [
        "drive.mount('/content/drive')"
      ],
      "metadata": {
        "colab": {
          "base_uri": "https://localhost:8080/"
        },
        "id": "Cl0qWW1LShzz",
        "outputId": "951471c0-f656-40a5-a488-c0d4c20cd23e"
      },
      "execution_count": 18,
      "outputs": [
        {
          "output_type": "stream",
          "name": "stdout",
          "text": [
            "Mounted at /content/drive\n"
          ]
        }
      ]
    },
    {
      "cell_type": "code",
      "source": [
        "import pandas as pd\n",
        "import numpy as np\n",
        "import altair as alt\n",
        "import matplotlib.pyplot as plt\n",
        "from trl import SFTTrainer\n",
        "\n",
        "train = pd.read_csv('/content/drive/MyDrive/datasets/train_chatbot.csv')"
      ],
      "metadata": {
        "id": "i-7dxzWcSU4z"
      },
      "execution_count": 19,
      "outputs": []
    },
    {
      "cell_type": "code",
      "source": [
        "train[\"label\"].value_counts(normalize=True)"
      ],
      "metadata": {
        "colab": {
          "base_uri": "https://localhost:8080/",
          "height": 178
        },
        "id": "rNkMWZ1zT3ZZ",
        "outputId": "75c3bc6a-0cb7-482c-f13d-e3aed5b10ac2"
      },
      "execution_count": 20,
      "outputs": [
        {
          "output_type": "execute_result",
          "data": {
            "text/plain": [
              "label\n",
              "0    0.761719\n",
              "1    0.238281\n",
              "Name: proportion, dtype: float64"
            ],
            "text/html": [
              "<div>\n",
              "<style scoped>\n",
              "    .dataframe tbody tr th:only-of-type {\n",
              "        vertical-align: middle;\n",
              "    }\n",
              "\n",
              "    .dataframe tbody tr th {\n",
              "        vertical-align: top;\n",
              "    }\n",
              "\n",
              "    .dataframe thead th {\n",
              "        text-align: right;\n",
              "    }\n",
              "</style>\n",
              "<table border=\"1\" class=\"dataframe\">\n",
              "  <thead>\n",
              "    <tr style=\"text-align: right;\">\n",
              "      <th></th>\n",
              "      <th>proportion</th>\n",
              "    </tr>\n",
              "    <tr>\n",
              "      <th>label</th>\n",
              "      <th></th>\n",
              "    </tr>\n",
              "  </thead>\n",
              "  <tbody>\n",
              "    <tr>\n",
              "      <th>0</th>\n",
              "      <td>0.761719</td>\n",
              "    </tr>\n",
              "    <tr>\n",
              "      <th>1</th>\n",
              "      <td>0.238281</td>\n",
              "    </tr>\n",
              "  </tbody>\n",
              "</table>\n",
              "</div><br><label><b>dtype:</b> float64</label>"
            ]
          },
          "metadata": {},
          "execution_count": 20
        }
      ]
    },
    {
      "cell_type": "code",
      "source": [
        "import csv\n",
        "import json\n",
        "import json\n",
        "import random\n",
        "import torch\n",
        "from datasets import Dataset, DatasetDict\n",
        "\n",
        "# Read .csv\n",
        "csv_file_path = '/content/drive/MyDrive/datasets/train_chatbot.csv'\n",
        "\n",
        "with open(csv_file_path, 'r', encoding='utf-8') as f:\n",
        "    reader = csv.reader(f)\n",
        "    next(reader)  # Skip first line\n",
        "\n",
        "    # Add to list after creating dictionary\n",
        "    data = []\n",
        "    for line in reader:\n",
        "        d = {\n",
        "            'input': line[0],\n",
        "            'label': int(line[1])\n",
        "        }\n",
        "        data.append(d)\n",
        "\n",
        "# json to string\n",
        "json_string = json.dumps(data, ensure_ascii=False, indent=2)\n",
        "json_file_path = '/content/drive/MyDrive/datasets/train_chatbot.json'\n",
        "\n",
        "with open(json_file_path, 'w', encoding='utf-8') as f:\n",
        "    f.write(json_string)"
      ],
      "metadata": {
        "id": "89oyh614hCJk"
      },
      "execution_count": 21,
      "outputs": []
    },
    {
      "cell_type": "markdown",
      "source": [
        "## 3-2. Training Model"
      ],
      "metadata": {
        "id": "ZhtFmUJoLxaf"
      }
    },
    {
      "cell_type": "code",
      "source": [
        "import os\n",
        "import copy\n",
        "from dataclasses import dataclass\n",
        "\n",
        "import torch\n",
        "import torch.nn as nn\n",
        "import torch.nn.functional as F\n",
        "\n",
        "from transformers import (\n",
        "    BitsAndBytesConfig,\n",
        "    AutoTokenizer,\n",
        "    PreTrainedTokenizerBase,\n",
        "    EvalPrediction,\n",
        "    Trainer,\n",
        "    TrainingArguments,\n",
        "    DataCollatorForSeq2Seq,\n",
        ")\n",
        "from peft import LoraConfig, get_peft_model, prepare_model_for_kbit_training, TaskType, PeftModel\n",
        "import warnings"
      ],
      "metadata": {
        "id": "Z8vugrD7ZxmJ"
      },
      "execution_count": 3,
      "outputs": []
    },
    {
      "cell_type": "code",
      "source": [
        "os.environ['TOKENIZERS_PARALLELISM'] = 'true'\n",
        "\n",
        "from transformers import AutoModelForCausalLM, AutoTokenizer\n",
        "from trl import SFTTrainer, SFTConfig\n",
        "from accelerate import Accelerator"
      ],
      "metadata": {
        "id": "n5O3VU-rZ4-a"
      },
      "execution_count": 4,
      "outputs": []
    },
    {
      "cell_type": "code",
      "source": [
        "model_id = \"google/gemma-2-2b-it\"\n",
        "\n",
        "model = AutoModelForCausalLM.from_pretrained(\n",
        "    model_id,\n",
        "    torch_dtype=torch.bfloat16,\n",
        "    device_map='auto',\n",
        "    attn_implementation='eager'\n",
        ")"
      ],
      "metadata": {
        "colab": {
          "base_uri": "https://localhost:8080/",
          "height": 1000,
          "referenced_widgets": [
            "5671ea560d6046bc86a8377a1b09ed9d",
            "e08c68ffd41f4caba259b7eb2865a105",
            "8c191834baed4b518e8d5bf017491ffc",
            "c1a64e2af6da417babd28be14088c52e",
            "7b193afa3bbb4cbbac661527da098e98",
            "c53af895983c4859bd7a6932c48ffd07",
            "49e15b2167314300bbf6743738682d2b",
            "2adadd2e03114bd7a24cbb2bcf110821",
            "42f44ca5f7c94c579f6a1e0716442b46",
            "4e16eacc66e14259813d12a4bd9c88a2",
            "7d130f58f70e4f19babbfb3982e07309"
          ]
        },
        "id": "CsU_3kOje0MW",
        "outputId": "ed644654-9ae4-4cca-e801-adb16c08fde2"
      },
      "execution_count": 29,
      "outputs": [
        {
          "output_type": "stream",
          "name": "stderr",
          "text": [
            "loading configuration file config.json from cache at /root/.cache/huggingface/hub/models--google--gemma-2-2b-it/snapshots/299a8560bedf22ed1c72a8a11e7dce4a7f9f51f8/config.json\n",
            "Model config Gemma2Config {\n",
            "  \"_name_or_path\": \"google/gemma-2-2b-it\",\n",
            "  \"architectures\": [\n",
            "    \"Gemma2ForCausalLM\"\n",
            "  ],\n",
            "  \"attention_bias\": false,\n",
            "  \"attention_dropout\": 0.0,\n",
            "  \"attn_logit_softcapping\": 50.0,\n",
            "  \"bos_token_id\": 2,\n",
            "  \"cache_implementation\": \"hybrid\",\n",
            "  \"eos_token_id\": [\n",
            "    1,\n",
            "    107\n",
            "  ],\n",
            "  \"final_logit_softcapping\": 30.0,\n",
            "  \"head_dim\": 256,\n",
            "  \"hidden_act\": \"gelu_pytorch_tanh\",\n",
            "  \"hidden_activation\": \"gelu_pytorch_tanh\",\n",
            "  \"hidden_size\": 2304,\n",
            "  \"initializer_range\": 0.02,\n",
            "  \"intermediate_size\": 9216,\n",
            "  \"max_position_embeddings\": 8192,\n",
            "  \"model_type\": \"gemma2\",\n",
            "  \"num_attention_heads\": 8,\n",
            "  \"num_hidden_layers\": 26,\n",
            "  \"num_key_value_heads\": 4,\n",
            "  \"pad_token_id\": 0,\n",
            "  \"query_pre_attn_scalar\": 256,\n",
            "  \"rms_norm_eps\": 1e-06,\n",
            "  \"rope_theta\": 10000.0,\n",
            "  \"sliding_window\": 4096,\n",
            "  \"torch_dtype\": \"bfloat16\",\n",
            "  \"transformers_version\": \"4.44.2\",\n",
            "  \"use_cache\": true,\n",
            "  \"vocab_size\": 256000\n",
            "}\n",
            "\n",
            "loading weights file model.safetensors from cache at /root/.cache/huggingface/hub/models--google--gemma-2-2b-it/snapshots/299a8560bedf22ed1c72a8a11e7dce4a7f9f51f8/model.safetensors.index.json\n",
            "Instantiating Gemma2ForCausalLM model under default dtype torch.bfloat16.\n",
            "Generate config GenerationConfig {\n",
            "  \"bos_token_id\": 2,\n",
            "  \"cache_implementation\": \"hybrid\",\n",
            "  \"eos_token_id\": [\n",
            "    1,\n",
            "    107\n",
            "  ],\n",
            "  \"pad_token_id\": 0\n",
            "}\n",
            "\n"
          ]
        },
        {
          "output_type": "display_data",
          "data": {
            "text/plain": [
              "Loading checkpoint shards:   0%|          | 0/2 [00:00<?, ?it/s]"
            ],
            "application/vnd.jupyter.widget-view+json": {
              "version_major": 2,
              "version_minor": 0,
              "model_id": "5671ea560d6046bc86a8377a1b09ed9d"
            }
          },
          "metadata": {}
        },
        {
          "output_type": "stream",
          "name": "stderr",
          "text": [
            "All model checkpoint weights were used when initializing Gemma2ForCausalLM.\n",
            "\n",
            "All the weights of Gemma2ForCausalLM were initialized from the model checkpoint at google/gemma-2-2b-it.\n",
            "If your task is similar to the task the model of the checkpoint was trained on, you can already use Gemma2ForCausalLM for predictions without further training.\n",
            "loading configuration file generation_config.json from cache at /root/.cache/huggingface/hub/models--google--gemma-2-2b-it/snapshots/299a8560bedf22ed1c72a8a11e7dce4a7f9f51f8/generation_config.json\n",
            "Generate config GenerationConfig {\n",
            "  \"bos_token_id\": 2,\n",
            "  \"cache_implementation\": \"hybrid\",\n",
            "  \"eos_token_id\": [\n",
            "    1,\n",
            "    107\n",
            "  ],\n",
            "  \"pad_token_id\": 0\n",
            "}\n",
            "\n"
          ]
        }
      ]
    },
    {
      "cell_type": "code",
      "source": [
        "data_path = json_file_path\n",
        "train_data = Dataset.from_json(data_path)"
      ],
      "metadata": {
        "colab": {
          "base_uri": "https://localhost:8080/",
          "height": 49,
          "referenced_widgets": [
            "e9720ed3d0224164a9a982a9637fe9db",
            "184b795548dc400b8ca2160dd35a8267",
            "aa5d72d921574c47b88dbe2c6c15d2ac",
            "bbf13a00b62045afba5347640c6a5a04",
            "c90dccac85e84d128b96bca85b87e932",
            "cc59a5fba9df43968862dee6a916439f",
            "9d32aabb3d0b4251afe32365301278c1",
            "7ae176aa8759471ea1e3a8453b5597d2",
            "5ae896fa68e942df8ea679dd84977360",
            "4e9bdc9d3efe40209e67ffb4ecfb93a0",
            "78b68afe7eca42eab68c03f89d860862"
          ]
        },
        "id": "oNaixmEos6ll",
        "outputId": "632ff16b-be2c-4d7f-f2ea-8f60638c2ebf"
      },
      "execution_count": 22,
      "outputs": [
        {
          "output_type": "display_data",
          "data": {
            "text/plain": [
              "Generating train split: 0 examples [00:00, ? examples/s]"
            ],
            "application/vnd.jupyter.widget-view+json": {
              "version_major": 2,
              "version_minor": 0,
              "model_id": "e9720ed3d0224164a9a982a9637fe9db"
            }
          },
          "metadata": {}
        }
      ]
    },
    {
      "cell_type": "code",
      "source": [
        "# Setting LoRA\n",
        "lora_config = LoraConfig(\n",
        "    r=6,\n",
        "    lora_alpha=8,\n",
        "    lora_dropout=0.05,\n",
        "    target_modules=[\"q_proj\", \"o_proj\", \"k_proj\", \"v_proj\", \"gate_proj\", \"up_proj\", \"down_proj\"],\n",
        "    task_type=\"CAUSAL_LM\"\n",
        ")"
      ],
      "metadata": {
        "id": "iTyU7rvmsU7V"
      },
      "execution_count": 23,
      "outputs": []
    },
    {
      "cell_type": "code",
      "source": [
        "def generate_prompt(example):\n",
        "    prompt_list = []\n",
        "    for i in range(len(example['input'])):\n",
        "        prompt_list.append(f\"\"\"<bos><start_of_turn>user\n",
        "{example['input'][i]}<end_of_turn>\n",
        "<start_of_turn>model\n",
        "{example['label'][i]}<end_of_turn><eos>\"\"\")\n",
        "    return prompt_list"
      ],
      "metadata": {
        "id": "scH3NhnitW7N"
      },
      "execution_count": 24,
      "outputs": []
    },
    {
      "cell_type": "code",
      "source": [
        "print(generate_prompt(train_data[:1])[0])"
      ],
      "metadata": {
        "colab": {
          "base_uri": "https://localhost:8080/"
        },
        "id": "y9wsSr4zta2W",
        "outputId": "69783c24-994c-4c8e-9e14-4872427fa184"
      },
      "execution_count": 25,
      "outputs": [
        {
          "output_type": "stream",
          "name": "stdout",
          "text": [
            "<bos><start_of_turn>user\n",
            "이거는<end_of_turn>\n",
            "<start_of_turn>model\n",
            "0<end_of_turn><eos>\n"
          ]
        }
      ]
    },
    {
      "cell_type": "code",
      "source": [
        "# Setting Model\n",
        "training_args = SFTConfig(\n",
        "    output_dir = 'output',\n",
        "    overwrite_output_dir = True,\n",
        "    do_train = True,\n",
        "    per_device_train_batch_size = 1,\n",
        "    gradient_accumulation_steps = 1,\n",
        "    learning_rate = 5e-5,\n",
        "    weight_decay = 0.01,\n",
        "    num_train_epochs = 3,\n",
        "    max_steps = -1,\n",
        "    lr_scheduler_type = \"cosine\",\n",
        "    warmup_ratio = 0.1,\n",
        "    log_level = \"info\",\n",
        "    logging_steps = 10,\n",
        "    save_strategy = \"epoch\",\n",
        "    bf16 = True,\n",
        "    gradient_checkpointing = False,\n",
        "    gradient_checkpointing_kwargs = {\"use_reentrant\": False},\n",
        "    max_seq_length = 8,\n",
        "    seed = 42,\n",
        "    report_to = \"none\",\n",
        ")\n",
        "\n",
        "trainer = SFTTrainer(\n",
        "    model = model,\n",
        "    tokenizer = tokenizer,\n",
        "    train_dataset = train_data,\n",
        "    args = training_args,\n",
        "    formatting_func = generate_prompt\n",
        ")"
      ],
      "metadata": {
        "colab": {
          "base_uri": "https://localhost:8080/",
          "height": 84,
          "referenced_widgets": [
            "4cc468d680dd4d4db58d3fe105a76bb1",
            "47a373c968404ea9b81d5d2b187f4b1e",
            "c671dd62cbf642b5ba20d16bf95bda51",
            "8e89ad4cecc240a490d4629d64748109",
            "c72fbc444dbe472b865808f3958517bb",
            "e911b3c15c00438482aeaba0a5d9e337",
            "2d8f219025b443b2b5ece04940bc095d",
            "e46fb94ece85437ba1222938af75de89",
            "99254a5df9d44dde9f434fab1be43a5b",
            "2f314bd7da7b48f0acf1f2d9a9e65376",
            "18ae8e5b29f84e4181c797b2154cb834"
          ]
        },
        "id": "5Gmo5P0HsWyp",
        "outputId": "f9b53d23-de05-4426-b5dd-3d5fdd4d6d1d"
      },
      "execution_count": 30,
      "outputs": [
        {
          "output_type": "stream",
          "name": "stderr",
          "text": [
            "PyTorch: setting up devices\n"
          ]
        },
        {
          "output_type": "display_data",
          "data": {
            "text/plain": [
              "Map:   0%|          | 0/1024 [00:00<?, ? examples/s]"
            ],
            "application/vnd.jupyter.widget-view+json": {
              "version_major": 2,
              "version_minor": 0,
              "model_id": "4cc468d680dd4d4db58d3fe105a76bb1"
            }
          },
          "metadata": {}
        },
        {
          "output_type": "stream",
          "name": "stderr",
          "text": [
            "Using cpu_amp half precision backend\n"
          ]
        }
      ]
    },
    {
      "cell_type": "code",
      "source": [
        "model.config.use_cache = False\n",
        "\n",
        "trainer.train()"
      ],
      "metadata": {
        "colab": {
          "base_uri": "https://localhost:8080/"
        },
        "id": "TYBOnidGxoUq",
        "outputId": "f64a416d-6093-4c99-a564-10b2ef68861f"
      },
      "execution_count": null,
      "outputs": [
        {
          "output_type": "stream",
          "name": "stderr",
          "text": [
            "***** Running training *****\n",
            "  Num examples = 1,024\n",
            "  Num Epochs = 3\n",
            "  Instantaneous batch size per device = 1\n",
            "  Total train batch size (w. parallel, distributed & accumulation) = 1\n",
            "  Gradient Accumulation steps = 1\n",
            "  Total optimization steps = 3,072\n",
            "  Number of trainable parameters = 2,614,341,888\n"
          ]
        }
      ]
    },
    {
      "cell_type": "code",
      "source": [
        "# 어댑터 모델 저장\n",
        "ADAPTER_MODEL = \"lora_adapter\"\n",
        "trainer.model.save_pretrained(ADAPTER_MODEL)\n",
        "\n",
        "# 최종 모델 병합 및 저장\n",
        "model = AutoModelForCausalLM.from_pretrained(model_id, device_map='auto', torch_dtype=torch.float16)"
      ],
      "metadata": {
        "id": "blDuQT6PuZtJ"
      },
      "execution_count": null,
      "outputs": []
    },
    {
      "cell_type": "markdown",
      "source": [
        "## 3-3. Load Model for Chat Filtering"
      ],
      "metadata": {
        "id": "uMYG26Ky1jaS"
      }
    },
    {
      "cell_type": "code",
      "source": [
        "conversation_pipeline = pipeline(\"text-generation\", model=model, tokenizer=tokenizer, max_new_tokens=512)"
      ],
      "metadata": {
        "id": "okTnIZvY0xGP"
      },
      "execution_count": null,
      "outputs": []
    },
    {
      "cell_type": "markdown",
      "source": [
        "## 3-4. Approved Chat Crawler Code with Filter"
      ],
      "metadata": {
        "id": "yCjKiiG71uZp"
      }
    },
    {
      "cell_type": "code",
      "source": [
        "def filter_with_model(input_text):\n",
        "    # Generate prompt\n",
        "    messages = [{\"role\": \"user\", \"content\": input_text}]\n",
        "\n",
        "    # Input to prompt format by tokenizer\n",
        "    prompt = tokenizer.apply_chat_template(messages, tokenize=False, add_generation_prompt=True)\n",
        "\n",
        "    # Response by Model\n",
        "    response = conversation_pipeline(prompt, do_sample=True, temperature=0.2, top_k=50, top_p=0.95, add_special_tokens=True)\n",
        "\n",
        "    # Return response\n",
        "    generated_text = response[0][\"generated_text\"]\n",
        "    model_response = generated_text[len(prompt):]  # Delete input prompt\n",
        "    return model_response"
      ],
      "metadata": {
        "id": "xhYMDb57ybYc"
      },
      "execution_count": 1,
      "outputs": []
    },
    {
      "cell_type": "code",
      "source": [
        "# 아프리카TV에서 제공하는 API로 채팅 정보를 받습니다.\n",
        "# Receives chat information using the API provided by AfreecaTV.\n",
        "def get_player_live(bno, bid):\n",
        "    url = 'https://live.afreecatv.com/afreeca/player_live_api.php'\n",
        "    data = {\n",
        "        'bid': bid,\n",
        "        'bno': bno,\n",
        "        'type': 'live',\n",
        "        'confirm_adult': 'false',\n",
        "        'player_type': 'html5',\n",
        "        'mode': 'landing',\n",
        "        'from_api': '0',\n",
        "        'pwd': '',\n",
        "        'stream_type': 'common',\n",
        "        'quality': 'HD'\n",
        "    }\n",
        "\n",
        "    try:\n",
        "        response = requests.post(f'{url}?bjid={bid}', data=data)\n",
        "        # HTTP 요청 에러를 확인하고, 에러가 있을 경우 예외를 발생시킵니다.\n",
        "        # Checks for HTTP request errors and raises an exception if there are any.\n",
        "        response.raise_for_status()\n",
        "        res = response.json()\n",
        "\n",
        "        CHDOMAIN = res[\"CHANNEL\"][\"CHDOMAIN\"].lower()\n",
        "        CHATNO = res[\"CHANNEL\"][\"CHATNO\"]\n",
        "        FTK = res[\"CHANNEL\"][\"FTK\"]\n",
        "        TITLE = res[\"CHANNEL\"][\"TITLE\"]\n",
        "        BJID = res[\"CHANNEL\"][\"BJID\"]\n",
        "        CHPT = str(int(res[\"CHANNEL\"][\"CHPT\"]) + 1)\n",
        "\n",
        "        return CHDOMAIN, CHATNO, FTK, TITLE, BJID, CHPT\n",
        "\n",
        "    except requests.RequestException as e:\n",
        "        print(f\"  ERROR: API 요청 중 오류 발생: {e}\")\n",
        "        return None\n",
        "    except KeyError as e:\n",
        "        print(f\"  ERROR: 응답에서 필요한 데이터를 찾을 수 없습니다: {e}\")\n",
        "        return None"
      ],
      "metadata": {
        "id": "1L1zq33X-Q-d"
      },
      "execution_count": null,
      "outputs": []
    },
    {
      "cell_type": "code",
      "source": [
        "# SSL 컨텍스트 생성\n",
        "# Create SSL context.\n",
        "def create_ssl_context():\n",
        "    ssl_context = ssl.create_default_context()\n",
        "    ssl_context.load_verify_locations(certifi.where())\n",
        "    ssl_context.check_hostname = False\n",
        "    ssl_context.verify_mode = ssl.CERT_NONE\n",
        "    return ssl_context"
      ],
      "metadata": {
        "id": "fzKYIeWX-WiI"
      },
      "execution_count": null,
      "outputs": []
    },
    {
      "cell_type": "code",
      "source": [
        "# 검열된 메시지 디코드 및 출력\n",
        "# Decode filtered messages and print.\n",
        "def decode_message_approved(bytes):\n",
        "    parts = bytes.split(b'\\x0c')\n",
        "    messages = [part.decode('utf-8') for part in parts]\n",
        "    if len(messages) > 5 and messages[1] not in ['-1', '1'] and '|' not in messages[1]:\n",
        "        user_id, comment, user_nickname = messages[2], messages[1], messages[6]\n",
        "        print(SEPARATOR)\n",
        "\n",
        "        model_reply = filter_with_model(comment)  # Reply from model with comment.\n",
        "        if(model_reply == 1):\n",
        "            print(f\"| {user_nickname}[{user_id}] - {comment}\")\n",
        "\n",
        "    else:\n",
        "        # 채팅 뿐만 아니라 다른 메세지도 동시에 내려옵니다.\n",
        "        # Not only chat messages, but other messages also come through at the same time.\n",
        "        pass"
      ],
      "metadata": {
        "id": "2harnld-UDy5"
      },
      "execution_count": null,
      "outputs": []
    },
    {
      "cell_type": "code",
      "source": [
        "# 바이트 크기 계산\n",
        "# Calculate byte size.\n",
        "def calculate_byte_size(string):\n",
        "    return len(string.encode('utf-8')) + 6"
      ],
      "metadata": {
        "id": "CzR9JOAB-cAL"
      },
      "execution_count": null,
      "outputs": []
    },
    {
      "cell_type": "code",
      "source": [
        "# 채팅에 연결\n",
        "# Connect to chat.\n",
        "async def connect_to_chat_approved(url, ssl_context):\n",
        "    try:\n",
        "        BNO, BID = url.split('/')[-1], url.split('/')[-2]\n",
        "        CHDOMAIN, CHATNO, FTK, TITLE, BJID, CHPT = get_player_live(BNO, BID)\n",
        "        print(f\"{SEPARATOR}\\n\"\n",
        "              f\"  CHDOMAIN: {CHDOMAIN}\\n  CHATNO: {CHATNO}\\n  FTK: {FTK}\\n\"\n",
        "              f\"  TITLE: {TITLE}\\n  BJID: {BJID}\\n  CHPT: {CHPT}\\n\"\n",
        "              f\"{SEPARATOR}\")\n",
        "    except Exception as e:\n",
        "        # API call failure.\n",
        "        print(f\"  ERROR: API 호출 실패 - {e}\")\n",
        "        return\n",
        "\n",
        "    try:\n",
        "        async with websockets.connect(\n",
        "            f\"wss://{CHDOMAIN}:{CHPT}/Websocket/{BID}\",\n",
        "            subprotocols=['chat'],\n",
        "            ssl=ssl_context,\n",
        "            ping_interval=None\n",
        "        ) as websocket:\n",
        "            # 최초 연결시 전달하는 패킷\n",
        "            # Packet sent during the initial connection.\n",
        "            CONNECT_PACKET = f'{ESC}000100000600{F*3}16{F}'\n",
        "            # 메세지를 내려받기 위해 보내는 패킷\n",
        "            # Packet sent to receive messages.\n",
        "            JOIN_PACKET = f'{ESC}0002{calculate_byte_size(CHATNO):06}00{F}{CHATNO}{F*5}'\n",
        "            # 주기적으로 핑을 보내서 메세지를 계속 수신하는 패킷\n",
        "            # Packet that periodically sends pings to keep receiving messages.\n",
        "            PING_PACKET = f'{ESC}000000000100{F}'\n",
        "\n",
        "            await websocket.send(CONNECT_PACKET)\n",
        "            print(f\"  연결 성공, 채팅방 정보 수신 대기중...\")\n",
        "            await asyncio.sleep(2)\n",
        "            await websocket.send(JOIN_PACKET)\n",
        "\n",
        "            async def ping():\n",
        "                while True:\n",
        "                    # 5분동안 핑이 보내지지 않으면 소켓은 끊어집니다.\n",
        "                    # Disconnects if ping is not recieved for 5 minutes.\n",
        "                    await asyncio.sleep(60)  # 1분 = 60초\n",
        "                    await websocket.send(PING_PACKET)\n",
        "\n",
        "            async def receive_messages_approved():\n",
        "                while True:\n",
        "                    data = await websocket.recv()\n",
        "                    decode_message_approved(data)\n",
        "\n",
        "            await asyncio.gather(\n",
        "                receive_messages_approved(),\n",
        "                ping(),\n",
        "            )\n",
        "\n",
        "    except Exception as e:\n",
        "        # Web socket connection error.\n",
        "        print(f\"  ERROR: 웹소켓 연결 오류 - {e}\")"
      ],
      "metadata": {
        "id": "cTV1lU1MVtZo"
      },
      "execution_count": null,
      "outputs": []
    },
    {
      "cell_type": "markdown",
      "source": [
        "# 4. Final Process"
      ],
      "metadata": {
        "id": "kBCq9_0tT0cQ"
      }
    },
    {
      "cell_type": "code",
      "source": [
        "# Enter AfreecaTV URL.\n",
        "url = input(\"아프리카TV URL을 입력해주세요: \")\n",
        "ssl_context = create_ssl_context()\n",
        "await connect_to_chat_approved(url, ssl_context)"
      ],
      "metadata": {
        "id": "ATkEUTq-XECy"
      },
      "execution_count": null,
      "outputs": []
    }
  ]
}